{
 "cells": [
  {
   "cell_type": "code",
   "execution_count": 15,
   "id": "dc97ebfd-966d-40bd-a7aa-b18e5de832d3",
   "metadata": {},
   "outputs": [],
   "source": [
    "\"\"\"Importing the Dependencies\"\"\"\n",
    "\n",
    "import numpy as np\n",
    "import pandas as pd\n",
    "import matplotlib.pyplot as plt\n",
    "import seaborn as sns\n",
    "from sklearn.model_selection import train_test_split\n",
    "from sklearn.linear_model import LinearRegression\n",
    "from sklearn import metrics"
   ]
  },
  {
   "cell_type": "code",
   "execution_count": 16,
   "id": "4cd69a49-a4c3-4c7c-889f-27986c8716d6",
   "metadata": {},
   "outputs": [
    {
     "name": "stdout",
     "output_type": "stream",
     "text": [
      "First 5 rows of the dataset:\n",
      "   age     sex     bmi  children smoker     region      charges\n",
      "0   19  female  27.900         0    yes  southwest  16884.92400\n",
      "1   18    male  33.770         1     no  southeast   1725.55230\n",
      "2   28    male  33.000         3     no  southeast   4449.46200\n",
      "3   33    male  22.705         0     no  northwest  21984.47061\n",
      "4   32    male  28.880         0     no  northwest   3866.85520 \n",
      "\n",
      "Number of rows: 1338\n",
      "Number of columns: 7\n",
      "\n",
      "Dataset Info:\n",
      "<class 'pandas.core.frame.DataFrame'>\n",
      "RangeIndex: 1338 entries, 0 to 1337\n",
      "Data columns (total 7 columns):\n",
      " #   Column    Non-Null Count  Dtype  \n",
      "---  ------    --------------  -----  \n",
      " 0   age       1338 non-null   int64  \n",
      " 1   sex       1338 non-null   object \n",
      " 2   bmi       1338 non-null   float64\n",
      " 3   children  1338 non-null   int64  \n",
      " 4   smoker    1338 non-null   object \n",
      " 5   region    1338 non-null   object \n",
      " 6   charges   1338 non-null   float64\n",
      "dtypes: float64(2), int64(2), object(3)\n",
      "memory usage: 73.3+ KB\n"
     ]
    }
   ],
   "source": [
    "\"\"\"Data Collection & Analysis\"\"\"\n",
    "\n",
    "# loading the data from csv file to a Pandas DataFrame\n",
    "insurance_dataset = pd.read_csv('insurance.csv')\n",
    "\n",
    "# first 5 rows of the dataframe\n",
    "print(\"First 5 rows of the dataset:\")\n",
    "print(insurance_dataset.head(), \"\\n\")\n",
    "\n",
    "# number of rows and columns\n",
    "rows, cols = insurance_dataset.shape\n",
    "print(f\"Number of rows: {rows}\")\n",
    "print(f\"Number of columns: {cols}\\n\")\n",
    "\n",
    "# Getting some information about the dataset\n",
    "print(\"Dataset Info:\")\n",
    "info = insurance_dataset.info()\n"
   ]
  },
  {
   "cell_type": "code",
   "execution_count": 17,
   "id": "55460555-fd39-4d7b-9bc2-4939f53da9e9",
   "metadata": {},
   "outputs": [
    {
     "data": {
      "text/plain": [
       "age         0\n",
       "sex         0\n",
       "bmi         0\n",
       "children    0\n",
       "smoker      0\n",
       "region      0\n",
       "charges     0\n",
       "dtype: int64"
      ]
     },
     "execution_count": 17,
     "metadata": {},
     "output_type": "execute_result"
    }
   ],
   "source": [
    "\"\"\"Categorical Features:\n",
    "- Sex\n",
    "- Smoker\n",
    "- Region\n",
    "\"\"\"\n",
    "\n",
    "# checking for missing values\n",
    "insurance_dataset.isnull().sum()"
   ]
  },
  {
   "cell_type": "code",
   "execution_count": 18,
   "id": "9e5d38e2-2e05-4227-98be-e7791e41cb3c",
   "metadata": {},
   "outputs": [
    {
     "data": {
      "text/html": [
       "<div>\n",
       "<style scoped>\n",
       "    .dataframe tbody tr th:only-of-type {\n",
       "        vertical-align: middle;\n",
       "    }\n",
       "\n",
       "    .dataframe tbody tr th {\n",
       "        vertical-align: top;\n",
       "    }\n",
       "\n",
       "    .dataframe thead th {\n",
       "        text-align: right;\n",
       "    }\n",
       "</style>\n",
       "<table border=\"1\" class=\"dataframe\">\n",
       "  <thead>\n",
       "    <tr style=\"text-align: right;\">\n",
       "      <th></th>\n",
       "      <th>age</th>\n",
       "      <th>bmi</th>\n",
       "      <th>children</th>\n",
       "      <th>charges</th>\n",
       "    </tr>\n",
       "  </thead>\n",
       "  <tbody>\n",
       "    <tr>\n",
       "      <th>count</th>\n",
       "      <td>1338.000000</td>\n",
       "      <td>1338.000000</td>\n",
       "      <td>1338.000000</td>\n",
       "      <td>1338.000000</td>\n",
       "    </tr>\n",
       "    <tr>\n",
       "      <th>mean</th>\n",
       "      <td>39.207025</td>\n",
       "      <td>30.663397</td>\n",
       "      <td>1.094918</td>\n",
       "      <td>13270.422265</td>\n",
       "    </tr>\n",
       "    <tr>\n",
       "      <th>std</th>\n",
       "      <td>14.049960</td>\n",
       "      <td>6.098187</td>\n",
       "      <td>1.205493</td>\n",
       "      <td>12110.011237</td>\n",
       "    </tr>\n",
       "    <tr>\n",
       "      <th>min</th>\n",
       "      <td>18.000000</td>\n",
       "      <td>15.960000</td>\n",
       "      <td>0.000000</td>\n",
       "      <td>1121.873900</td>\n",
       "    </tr>\n",
       "    <tr>\n",
       "      <th>25%</th>\n",
       "      <td>27.000000</td>\n",
       "      <td>26.296250</td>\n",
       "      <td>0.000000</td>\n",
       "      <td>4740.287150</td>\n",
       "    </tr>\n",
       "    <tr>\n",
       "      <th>50%</th>\n",
       "      <td>39.000000</td>\n",
       "      <td>30.400000</td>\n",
       "      <td>1.000000</td>\n",
       "      <td>9382.033000</td>\n",
       "    </tr>\n",
       "    <tr>\n",
       "      <th>75%</th>\n",
       "      <td>51.000000</td>\n",
       "      <td>34.693750</td>\n",
       "      <td>2.000000</td>\n",
       "      <td>16639.912515</td>\n",
       "    </tr>\n",
       "    <tr>\n",
       "      <th>max</th>\n",
       "      <td>64.000000</td>\n",
       "      <td>53.130000</td>\n",
       "      <td>5.000000</td>\n",
       "      <td>63770.428010</td>\n",
       "    </tr>\n",
       "  </tbody>\n",
       "</table>\n",
       "</div>"
      ],
      "text/plain": [
       "               age          bmi     children       charges\n",
       "count  1338.000000  1338.000000  1338.000000   1338.000000\n",
       "mean     39.207025    30.663397     1.094918  13270.422265\n",
       "std      14.049960     6.098187     1.205493  12110.011237\n",
       "min      18.000000    15.960000     0.000000   1121.873900\n",
       "25%      27.000000    26.296250     0.000000   4740.287150\n",
       "50%      39.000000    30.400000     1.000000   9382.033000\n",
       "75%      51.000000    34.693750     2.000000  16639.912515\n",
       "max      64.000000    53.130000     5.000000  63770.428010"
      ]
     },
     "execution_count": 18,
     "metadata": {},
     "output_type": "execute_result"
    }
   ],
   "source": [
    "\"\"\"Data Analysis\"\"\"\n",
    "\n",
    "# statistical Measures of the dataset\n",
    "insurance_dataset.describe()"
   ]
  },
  {
   "cell_type": "code",
   "execution_count": 19,
   "id": "29916f86-dc5c-4d06-9b19-3e66081d7052",
   "metadata": {},
   "outputs": [
    {
     "data": {
      "text/plain": [
       "<Figure size 800x800 with 0 Axes>"
      ]
     },
     "metadata": {},
     "output_type": "display_data"
    },
    {
     "data": {
      "image/png": "[encoded data removed]",
      "text/plain": [
       "<Figure size 500x500 with 1 Axes>"
      ]
     },
     "metadata": {},
     "output_type": "display_data"
    }
   ],
   "source": [
    "# distribution of age value\n",
    "sns.set()\n",
    "plt.figure(figsize=(8,8))\n",
    "sns.displot(insurance_dataset['age'])\n",
    "plt.title('Age Distribution')\n",
    "plt.show()"
   ]
  },
  {
   "cell_type": "code",
   "execution_count": 20,
   "id": "72022f86-2ad2-47d0-a939-7f751360debe",
   "metadata": {},
   "outputs": [
    {
     "data": {
      "image/png": "[encoded data removed]",
      "text/plain": [
       "<Figure size 800x800 with 1 Axes>"
      ]
     },
     "metadata": {},
     "output_type": "display_data"
    },
    {
     "data": {
      "text/plain": [
       "sex\n",
       "male      676\n",
       "female    662\n",
       "Name: count, dtype: int64"
      ]
     },
     "execution_count": 20,
     "metadata": {},
     "output_type": "execute_result"
    }
   ],
   "source": [
    "# Gender column\n",
    "plt.figure(figsize=(8,8))\n",
    "sns.countplot(x='sex', data=insurance_dataset)\n",
    "plt.title('Sex Distribution')\n",
    "plt.show()\n",
    "\n",
    "insurance_dataset['sex'].value_counts()"
   ]
  },
  {
   "cell_type": "code",
   "execution_count": 21,
   "id": "2427fb06-81a2-449a-a83b-e4f45f282e16",
   "metadata": {},
   "outputs": [
    {
     "data": {
      "image/png": "[encoded data removed]",
      "text/plain": [
       "<Figure size 500x500 with 1 Axes>"
      ]
     },
     "metadata": {},
     "output_type": "display_data"
    },
    {
     "data": {
      "text/plain": [
       "'Normal BMI Range --> 18.5 to 24.9'"
      ]
     },
     "execution_count": 21,
     "metadata": {},
     "output_type": "execute_result"
    }
   ],
   "source": [
    "# bmi distribution\n",
    "# plt.figure(figsize=(8,8))\n",
    "sns.displot(insurance_dataset['bmi'])\n",
    "plt.title('BMI Distribution')\n",
    "plt.show()\n",
    "\n",
    "\"\"\"Normal BMI Range --> 18.5 to 24.9\"\"\""
   ]
  },
  {
   "cell_type": "code",
   "execution_count": 22,
   "id": "768c4644-e4dc-401d-8083-80d4d7efe89a",
   "metadata": {},
   "outputs": [
    {
     "data": {
      "image/png": "[encoded data removed]",
      "text/plain": [
       "<Figure size 800x800 with 1 Axes>"
      ]
     },
     "metadata": {},
     "output_type": "display_data"
    },
    {
     "data": {
      "text/plain": [
       "children\n",
       "0    574\n",
       "1    324\n",
       "2    240\n",
       "3    157\n",
       "4     25\n",
       "5     18\n",
       "Name: count, dtype: int64"
      ]
     },
     "execution_count": 22,
     "metadata": {},
     "output_type": "execute_result"
    }
   ],
   "source": [
    "\n",
    "# children column\n",
    "plt.figure(figsize=(8,8))\n",
    "sns.countplot(x='children', data=insurance_dataset)\n",
    "plt.title('Children')\n",
    "plt.show()\n",
    "\n",
    "insurance_dataset['children'].value_counts()"
   ]
  },
  {
   "cell_type": "code",
   "execution_count": 23,
   "id": "3ef2ac38-350a-473f-983a-e39f5dc636b1",
   "metadata": {},
   "outputs": [
    {
     "data": {
      "image/png": "[encoded data removed]",
      "text/plain": [
       "<Figure size 800x800 with 1 Axes>"
      ]
     },
     "metadata": {},
     "output_type": "display_data"
    },
    {
     "data": {
      "text/plain": [
       "smoker\n",
       "no     1064\n",
       "yes     274\n",
       "Name: count, dtype: int64"
      ]
     },
     "execution_count": 23,
     "metadata": {},
     "output_type": "execute_result"
    }
   ],
   "source": [
    "# smoker column\n",
    "plt.figure(figsize=(8,8))\n",
    "sns.countplot(x='smoker', data=insurance_dataset)\n",
    "plt.title('smoker')\n",
    "plt.show()\n",
    "\n",
    "insurance_dataset['smoker'].value_counts()"
   ]
  },
  {
   "cell_type": "code",
   "execution_count": 24,
   "id": "399ddd01-ed9c-4df0-a62e-ffcf75b47509",
   "metadata": {},
   "outputs": [
    {
     "data": {
      "image/png": "[encoded data removed]",
      "text/plain": [
       "<Figure size 800x800 with 1 Axes>"
      ]
     },
     "metadata": {},
     "output_type": "display_data"
    },
    {
     "data": {
      "text/plain": [
       "region\n",
       "southeast    364\n",
       "southwest    325\n",
       "northwest    325\n",
       "northeast    324\n",
       "Name: count, dtype: int64"
      ]
     },
     "execution_count": 24,
     "metadata": {},
     "output_type": "execute_result"
    }
   ],
   "source": [
    "# region column\n",
    "plt.figure(figsize=(8,8))\n",
    "sns.countplot(x='region', data=insurance_dataset)\n",
    "plt.title('region')\n",
    "plt.show()\n",
    "\n",
    "insurance_dataset['region'].value_counts()"
   ]
  },
  {
   "cell_type": "code",
   "execution_count": 25,
   "id": "fd5191f8-c295-4beb-a5a5-17f8d12a3b5b",
   "metadata": {},
   "outputs": [
    {
     "data": {
      "image/png": "[encoded data removed]",
      "text/plain": [
       "<Figure size 500x500 with 1 Axes>"
      ]
     },
     "metadata": {},
     "output_type": "display_data"
    }
   ],
   "source": [
    "# distribution of charges value\n",
    "# plt.figure(figsize=(8,8))\n",
    "sns.displot(insurance_dataset['charges'])\n",
    "plt.title('Charges Distribution')\n",
    "plt.show()"
   ]
  },
  {
   "cell_type": "code",
   "execution_count": 26,
   "id": "0a3f7dd2-6204-485d-80f1-1bdb4b35e92a",
   "metadata": {},
   "outputs": [
    {
     "name": "stdout",
     "output_type": "stream",
     "text": [
      "   age     sex     bmi  children smoker     region      charges\n",
      "0   19  female  27.900         0    yes  southwest  16884.92400\n",
      "1   18    male  33.770         1     no  southeast   1725.55230\n",
      "2   28    male  33.000         3     no  southeast   4449.46200\n",
      "3   33    male  22.705         0     no  northwest  21984.47061\n",
      "4   32    male  28.880         0     no  northwest   3866.85520\n",
      "Dataset after encoding:\n",
      "\n",
      "   age  sex     bmi  children  smoker  region      charges\n",
      "0   19    1  27.900         0       0       1  16884.92400\n",
      "1   18    0  33.770         1       1       0   1725.55230\n",
      "2   28    0  33.000         3       1       0   4449.46200\n",
      "3   33    0  22.705         0       1       3  21984.47061\n",
      "4   32    0  28.880         0       1       3   3866.85520\n"
     ]
    }
   ],
   "source": [
    "\"\"\"Data Pre-Processing\n",
    "\n",
    "Encoding the categorical features\n",
    "\"\"\"\n",
    "\n",
    "print(insurance_dataset.head())\n",
    "\n",
    "#Encoding 'sex' column\n",
    "insurance_dataset['sex'] = insurance_dataset['sex'].map({'male': 0, 'female': 1})\n",
    "\n",
    "# Encoding 'smoker' column\n",
    "insurance_dataset['smoker'] = insurance_dataset['smoker'].map({'yes': 0, 'no': 1})\n",
    "\n",
    "# Encoding 'region' column\n",
    "insurance_dataset['region'] = insurance_dataset['region'].map({'southeast': 0, 'southwest': 1, 'northeast': 2, 'northwest': 3})\n",
    "\n",
    "# Display the first 5 rows of the encoded dataset\n",
    "print(\"Dataset after encoding:\\n\")\n",
    "print(insurance_dataset.head())\n",
    "\n",
    "# # encoding sex column\n",
    "# insurance_dataset.replace({'sex':{'male':0,'female':1}}, inplace=True)\n",
    "\n",
    "# # encoding 'smoker' column\n",
    "# insurance_dataset.replace({'smoker':{'yes':0,'no':1}}, inplace=True)\n",
    "\n",
    "# # encoding 'region' column\n",
    "# insurance_dataset.replace({'region':{'southeast':0,'southwest':1,'northeast':2,'northwest':3}}, inplace=True)\n",
    "# print(\"Dataset after encoding:\\n\")\n",
    "# print(insurance_dataset.head())"
   ]
  },
  {
   "cell_type": "code",
   "execution_count": 27,
   "id": "56963063-b067-4379-89dc-28c0e6737f5a",
   "metadata": {},
   "outputs": [
    {
     "name": "stdout",
     "output_type": "stream",
     "text": [
      "Features (X) :\n",
      "       age  sex     bmi  children  smoker  region\n",
      "0      19    1  27.900         0       0       1\n",
      "1      18    0  33.770         1       1       0\n",
      "2      28    0  33.000         3       1       0\n",
      "3      33    0  22.705         0       1       3\n",
      "4      32    0  28.880         0       1       3\n",
      "...   ...  ...     ...       ...     ...     ...\n",
      "1333   50    0  30.970         3       1       3\n",
      "1334   18    1  31.920         0       1       2\n",
      "1335   18    1  36.850         0       1       0\n",
      "1336   21    1  25.800         0       1       1\n",
      "1337   61    1  29.070         0       0       3\n",
      "\n",
      "[1338 rows x 6 columns] \n",
      "\n",
      "Target (Y) :\n",
      " 0       16884.92400\n",
      "1        1725.55230\n",
      "2        4449.46200\n",
      "3       21984.47061\n",
      "4        3866.85520\n",
      "           ...     \n",
      "1333    10600.54830\n",
      "1334     2205.98080\n",
      "1335     1629.83350\n",
      "1336     2007.94500\n",
      "1337    29141.36030\n",
      "Name: charges, Length: 1338, dtype: float64\n"
     ]
    }
   ],
   "source": [
    "\"\"\"Splitting the Features and Target\"\"\"\n",
    "\n",
    "X = insurance_dataset.drop(columns='charges', axis=1)\n",
    "Y = insurance_dataset['charges']\n",
    "\n",
    "# Displaying the features (X)\n",
    "print(\"Features (X) :\\n\", X, \"\\n\")\n",
    "\n",
    "# Displaying the target (Y)\n",
    "print(\"Target (Y) :\\n\", Y)"
   ]
  },
  {
   "cell_type": "code",
   "execution_count": 29,
   "id": "5e6b8e6d-ba17-45ea-8f08-e9144eb547fd",
   "metadata": {},
   "outputs": [
    {
     "name": "stdout",
     "output_type": "stream",
     "text": [
      "Dataset Shapes:\n",
      "Full dataset (X): (1338, 6)\n",
      "Training set (X_train): (1070, 6)\n",
      "Testing set (X_test): (268, 6)\n"
     ]
    }
   ],
   "source": [
    "# Splitting the data into training and testing sets\n",
    "X_train, X_test, Y_train, Y_test = train_test_split(X, Y, test_size=0.2, random_state=2)\n",
    "\n",
    "# Display the shapes of the datasets\n",
    "print(\"Dataset Shapes:\")\n",
    "print(f\"Full dataset (X): {X.shape}\")\n",
    "print(f\"Training set (X_train): {X_train.shape}\")\n",
    "print(f\"Testing set (X_test): {X_test.shape}\")"
   ]
  },
  {
   "cell_type": "code",
   "execution_count": 30,
   "id": "f0d17b43-952d-418f-8a53-5751db8a73c6",
   "metadata": {},
   "outputs": [
    {
     "name": "stdout",
     "output_type": "stream",
     "text": [
      "R squared vale :  0.751505643411174\n"
     ]
    },
    {
     "data": {
      "text/plain": [
       "array([ 1520.59242161, 11570.5920178 , 10082.43849883,  2246.21754312,\n",
       "        7881.28362035, 11081.50227956,  3538.24791808,   698.03224036,\n",
       "       12223.4851558 ,  9611.93217623, 11657.51046259,  4891.0539656 ,\n",
       "       29947.50192274,  -370.8384887 , 12401.36048618, 13243.21522903,\n",
       "        3814.42216541,  7883.39384825, 29431.34485576,  2362.83672121,\n",
       "       12505.50452609,  2256.75277238, 34468.01948464, 31742.4859866 ,\n",
       "       30306.19118561,  9027.76110059,  1923.87420399, 15247.09503907,\n",
       "        6542.61302531,  2104.79910554,  9484.36642532,  5794.91649267,\n",
       "        4425.26853454,  5015.3811241 ,  9579.4545934 ,  4601.74838962,\n",
       "       29875.58083252,  6797.04084444, 27239.25811383, 13999.0938259 ,\n",
       "         313.55184653, 28415.75044713,  7886.54751277,  1478.09056648,\n",
       "       10273.28966107,  8003.09003405, 11612.15283896,  8175.95966058,\n",
       "       10753.45200738, 13802.18082647,  5740.90172027,  -737.13333209,\n",
       "       26346.21771217, 37192.66032995,  7364.09646118, 17845.51752284,\n",
       "        1412.63748094, 11042.48090545,  2159.33597148, 34066.1609094 ,\n",
       "       11646.83178834,   874.98548929,  4020.66706965, 35913.0386546 ,\n",
       "       -1034.71506651, 13963.49470486, 14840.86595147,  3395.11689253,\n",
       "       12935.74119039, 11199.38639761, 11579.90265947, 16132.93772732,\n",
       "       10183.88439249,  9888.34374983, 15157.35586536, 12377.94812939,\n",
       "        4387.77863628,  3680.0942183 ,  5347.06219182, 13291.0174177 ,\n",
       "        9158.24253865, 11935.82529104,  9522.10094863, 27668.10801212,\n",
       "       12639.34008179,  3989.82506218, 38550.3600665 , 11191.86138788,\n",
       "        8088.76475698, 11068.02157864, 10956.54972199, 15139.01708371,\n",
       "       11077.7652618 , 13045.02707757,  5283.33522041, 25958.0327765 ,\n",
       "        4962.43983078, 10543.57361001,  2709.95649343, 29007.79585973,\n",
       "        6350.41196404,  3478.11303549,  2661.5079005 , 15990.91366368,\n",
       "        7905.79980945, 10304.73937225,  9962.86575973,  5066.24762376,\n",
       "       14869.35897203, 33752.1676117 ,  3761.88660755, 11521.18346955,\n",
       "       24631.42819661, 14803.95189475,  1734.60861523, 10401.39588933,\n",
       "        9202.60416666,  6288.03801508, 11838.14846799, 28871.88920869,\n",
       "        6579.83915531,  7172.5493248 , 15845.7059381 , 16235.1462466 ,\n",
       "        8251.21825771, 26323.60251235, 35303.7543364 , 11847.13682432,\n",
       "        8073.11495528,  9326.25448529,  8467.39129356,  2933.9917805 ,\n",
       "        3322.8695607 ,  4683.92759642,  8307.29448212,  8002.16943038,\n",
       "        7053.31134868, 28990.07000293, 35181.28277884,  4167.15930146,\n",
       "       27886.14685479,  4144.07006286,  6628.26922773, 13311.51217138,\n",
       "        8025.49599525, 36451.54381063, 11784.84114664, 11347.89349827,\n",
       "        8294.89578165,   524.38645586,  6503.27709943,  7165.34947975,\n",
       "        4638.1194905 , 11666.09138657, 11630.93778466, 15478.52566732,\n",
       "        5856.27738941, 27679.01778802,  1979.26736391, 11476.47168147,\n",
       "       16974.37864533, 13934.2661456 ,  9520.8147517 ,  2269.28578271,\n",
       "        4396.04458266,  8922.70311363, 19309.54145116, 28276.8594048 ,\n",
       "       12676.31036501,  2965.72503913, 32305.95532934, 13107.14725741,\n",
       "       32778.03744536, 34349.43983065, 11161.90211021,  7576.16565725,\n",
       "        2633.64298278,  2362.83672121, 11656.06768299,  7884.51285855,\n",
       "        2926.10661155,  1166.95403524, 31658.17342743,  7134.58660758,\n",
       "        5557.65095352, 27325.26552208,  6609.80947788,  2654.92453849,\n",
       "        7915.90908586, 35382.85588438,  7986.35556548,  4319.94677933,\n",
       "        9477.98125702, 26872.46549002,  5713.52005266, 40198.16671135,\n",
       "       37499.39947482, 12998.97434383, 26841.49272812, 11921.07008303,\n",
       "       37470.06851291,  7403.67284293,  4214.20198795,  1961.81400965,\n",
       "       14048.97433527, 14018.66010565,  2180.00417375, 35697.72795561,\n",
       "       12791.22900693,  8748.61933066,  1132.66189998, 30647.68798314,\n",
       "        3495.69714418,  3469.35222538, 12600.42201939, 15082.03691758,\n",
       "       29668.01412306,   -90.72967482,  3183.27545559,  8454.89054624,\n",
       "       39754.78580876,  7972.36417173, 35120.73194872, 27504.76077554,\n",
       "       13731.00485102, 28889.95796905, 16499.4845035 ,  7606.95831393,\n",
       "       16113.44475909,  7121.06385743, 10218.00060066,  3711.06528332,\n",
       "        8798.98783422,  1921.16940112, 32853.72073048, 32064.68779053,\n",
       "       14808.74127134, 11403.04577031,  1017.44053899,  6282.0954554 ,\n",
       "       11157.27362218,  4173.88588937, 10981.18496951,  1055.76715878,\n",
       "       34880.38727916, 32433.90662952, 10508.02880569, 26355.22189142,\n",
       "       12805.78624032,  1722.14283127, 11198.49344957,  2425.6595318 ,\n",
       "        7497.57207675, 10638.4733706 , 17092.44095263,  5779.81964596,\n",
       "       10521.06603397,  -521.71832066, -2343.57982801,  1908.03764045,\n",
       "       27783.94876666, 33997.01915615, 37349.83789264, -1669.89064998,\n",
       "       15722.41952204, 36968.05564506, 12987.36484768, 34174.92279327])"
      ]
     },
     "execution_count": 30,
     "metadata": {},
     "output_type": "execute_result"
    }
   ],
   "source": [
    "\"\"\"Model Training\n",
    "\n",
    "Linear Regression\n",
    "\"\"\"\n",
    "# loading the Linear Regression model\n",
    "regressor = LinearRegression()\n",
    "\n",
    "regressor.fit(X_train, Y_train)\n",
    "\n",
    "\"\"\"Model Evaluation\"\"\"\n",
    "\n",
    "# prediction on training data\n",
    "training_data_prediction =regressor.predict(X_train)\n",
    "\n",
    "# R squared value\n",
    "r2_train = metrics.r2_score(Y_train, training_data_prediction)\n",
    "print('R squared vale : ', r2_train)\n",
    "\n",
    "# prediction on test data\n",
    "test_data_prediction =regressor.predict(X_test)\n",
    "test_data_prediction"
   ]
  },
  {
   "cell_type": "code",
   "execution_count": 31,
   "id": "f3bfea8a-bb6d-4b1d-a584-740d2faf685f",
   "metadata": {},
   "outputs": [
    {
     "name": "stdout",
     "output_type": "stream",
     "text": [
      "R squared value :  0.7447273869684077\n"
     ]
    }
   ],
   "source": [
    "from sklearn.metrics import mean_squared_error, r2_score\n",
    "\n",
    "# R squared value\n",
    "r2_test = metrics.r2_score(Y_test, test_data_prediction)\n",
    "print('R squared value : ', r2_test)"
   ]
  },
  {
   "cell_type": "code",
   "execution_count": 32,
   "id": "9daa0e11-c995-4c66-95e6-9534b1210d19",
   "metadata": {},
   "outputs": [
    {
     "name": "stdout",
     "output_type": "stream",
     "text": [
      "The insurance cost is:  USD 3760.0805764960496\n"
     ]
    }
   ],
   "source": [
    "\"\"\"Building a Predictive System\"\"\"\n",
    "\n",
    "# Input data as a tuple\n",
    "input_data = (31, 1, 25.74, 0, 1, 0)\n",
    "\n",
    "# Convert input_data to a pandas DataFrame\n",
    "input_data_df = pd.DataFrame([input_data], columns=['age', 'sex', 'bmi', 'children', 'smoker', 'region'])\n",
    "\n",
    "# Use the model to predict\n",
    "prediction = regressor.predict(input_data_df)\n",
    "\n",
    "print(f'The insurance cost is:  USD {prediction[0]}')\n"
   ]
  },
  {
   "cell_type": "code",
   "execution_count": 33,
   "id": "7e1ab76b-4a3d-4d2f-a989-1a6761efb067",
   "metadata": {},
   "outputs": [
    {
     "name": "stdout",
     "output_type": "stream",
     "text": [
      "0.7448008334274916\n"
     ]
    }
   ],
   "source": [
    "\"\"\"Prediction using Ridge regression\n",
    "\n",
    "\n",
    "\"\"\"\n",
    "\n",
    "# Ridge:\n",
    "from sklearn.linear_model import Ridge\n",
    "Ridge = Ridge()\n",
    "Ridge = Ridge.fit(X_train, Y_train)\n",
    "\n",
    "# Prediction:\n",
    "y_pred = Ridge.predict(X_test)\n",
    "\n",
    "# Scores:\n",
    "print(r2_score(Y_test, y_pred))"
   ]
  },
  {
   "cell_type": "code",
   "execution_count": 34,
   "id": "3b3c1101-3ca9-42cb-9cf6-5f44b90c3842",
   "metadata": {},
   "outputs": [
    {
     "name": "stdout",
     "output_type": "stream",
     "text": [
      "0.7447245444913575\n"
     ]
    }
   ],
   "source": [
    "\"\"\"Prediction using Lasso regression\"\"\"\n",
    "\n",
    "# Lasso:\n",
    "from sklearn.linear_model import Lasso\n",
    "Lasso = Lasso()\n",
    "Lasso = Lasso.fit(X_train, Y_train)\n",
    "\n",
    "# Prediction:\n",
    "y_pred = Lasso.predict(X_test)\n",
    "\n",
    "# Scores:\n",
    "print(r2_score(Y_test, y_pred))"
   ]
  },
  {
   "cell_type": "code",
   "execution_count": 35,
   "id": "87058a2a-38d2-48af-8ecf-584576027935",
   "metadata": {},
   "outputs": [
    {
     "name": "stdout",
     "output_type": "stream",
     "text": [
      "0.8372892071547597\n"
     ]
    }
   ],
   "source": [
    "\"\"\"Prediction using Random Forest Regressor\n",
    "\n",
    "\"\"\"\n",
    "\n",
    "from sklearn.ensemble import RandomForestRegressor\n",
    "RandomForestRegressor = RandomForestRegressor()\n",
    "RandomForestRegressor = RandomForestRegressor.fit(X_train, Y_train)\n",
    "\n",
    "# Prediction:\n",
    "y_pred = RandomForestRegressor.predict(X_test)\n",
    "\n",
    "# Scores:\n",
    "print(r2_score(Y_test, y_pred))"
   ]
  },
  {
   "cell_type": "code",
   "execution_count": 36,
   "id": "fa671782-c79f-48f5-b816-7bfbf5d23104",
   "metadata": {},
   "outputs": [
    {
     "name": "stdout",
     "output_type": "stream",
     "text": [
      "The insurance cost is: USD 4366.871332600007\n"
     ]
    }
   ],
   "source": [
    "# Input data as a tuple\n",
    "input_data = (31, 1, 25.74, 0, 1, 0)\n",
    "\n",
    "# Convert input_data to a pandas DataFrame\n",
    "input_data_df = pd.DataFrame([input_data], columns=['age', 'sex', 'bmi', 'children', 'smoker', 'region'])\n",
    "\n",
    "prediction = RandomForestRegressor.predict(input_data_df)\n",
    "# print(prediction)\n",
    "\n",
    "print(f'The insurance cost is: USD {prediction[0]}')\n"
   ]
  }
 ],
 "metadata": {
  "kernelspec": {
   "display_name": "Python 3 (ipykernel)",
   "language": "python",
   "name": "python3"
  },
  "language_info": {
   "codemirror_mode": {
    "name": "ipython",
    "version": 3
   },
   "file_extension": ".py",
   "mimetype": "text/x-python",
   "name": "python",
   "nbconvert_exporter": "python",
   "pygments_lexer": "ipython3",
   "version": "3.12.5"
  }
 },
 "nbformat": 4,
 "nbformat_minor": 5
}
